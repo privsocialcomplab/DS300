{
 "cells": [
  {
   "attachments": {},
   "cell_type": "markdown",
   "metadata": {},
   "source": [
    "#  Author: Jiexiao He & Dolzodmaa Davaasuren"
   ]
  },
  {
   "cell_type": "code",
   "execution_count": 6,
   "metadata": {
    "pycharm": {
     "is_executing": false
    }
   },
   "outputs": [],
   "source": [
    "import pandas as pd\n",
    "import numpy as np\n",
    "import torch\n",
    "import os, sys\n",
    "import csv"
   ]
  },
  {
   "cell_type": "markdown",
   "metadata": {},
   "source": [
    "# The first step is coverting the txt to csv filr. To make the statical experiment easier, we have to convert it to the csv file. We use the dataset of the 500 first and then tried the 10000.txt"
   ]
  },
  {
   "cell_type": "code",
   "execution_count": 7,
   "metadata": {
    "pycharm": {
     "is_executing": false
    }
   },
   "outputs": [],
   "source": [
    "in_filename = os.path.join('Adult/dataset_10000.txt')\n",
    "out_filename = os.path.join('Adult/dataset_10000.csv')\n",
    " \n",
    "df = pd.read_csv(in_filename, sep=\"\\n\")\n",
    "df.to_csv(out_filename, index=False)\n",
    "data = pd.read_csv(\"Adult/dataset_10000.csv\",header = None, delim_whitespace=True)\n",
    "data.to_csv(\"Adult/test_data.csv\", index = False, header = None)"
   ]
  },
  {
   "cell_type": "markdown",
   "metadata": {},
   "source": [
    "# The second step is adding the target to the original column. If the name of the column is too big, we have to read them from the txt file. But since there are only 9 columns it is okay to just add it here."
   ]
  },
  {
   "cell_type": "code",
   "execution_count": 8,
   "metadata": {
    "pycharm": {
     "is_executing": false
    }
   },
   "outputs": [],
   "source": [
    "columns = [\"eid\",\"age\",\"education-num\",\"work-class\",\"marital-status\",\"occupation\",\"race\",\"sex\",\"native-country\"]\n",
    "data_frame = pd.read_csv(\"./Adult/test_data.csv\", names = columns)"
   ]
  },
  {
   "cell_type": "markdown",
   "metadata": {},
   "source": [
    "# Question 1"
   ]
  },
  {
   "cell_type": "markdown",
   "metadata": {},
   "source": [
    "The object means the data is string. So in this dataset the age and education number are integer, the others are string.\n",
    "In this experiment I took the race, sex and age as anonymization data. Blow are the result of the question 1. In this chart you could see the most occured working class is 7, and there are 7390 people are in working set 7, there are 50% people graduate in grade 10, the male took above 67% of the total population and most of the stuff came from United-States. Yes! You could find so many information in this describe form."
   ]
  },
  {
   "cell_type": "code",
   "execution_count": 9,
   "metadata": {
    "pycharm": {
     "is_executing": false
    },
    "scrolled": true
   },
   "outputs": [
    {
     "data": {
      "text/html": [
       "<div>\n",
       "<style scoped>\n",
       "    .dataframe tbody tr th:only-of-type {\n",
       "        vertical-align: middle;\n",
       "    }\n",
       "\n",
       "    .dataframe tbody tr th {\n",
       "        vertical-align: top;\n",
       "    }\n",
       "\n",
       "    .dataframe thead th {\n",
       "        text-align: right;\n",
       "    }\n",
       "</style>\n",
       "<table border=\"1\" class=\"dataframe\">\n",
       "  <thead>\n",
       "    <tr style=\"text-align: right;\">\n",
       "      <th></th>\n",
       "      <th>eid</th>\n",
       "      <th>age</th>\n",
       "      <th>education-num</th>\n",
       "      <th>work-class</th>\n",
       "      <th>marital-status</th>\n",
       "      <th>occupation</th>\n",
       "      <th>race</th>\n",
       "      <th>sex</th>\n",
       "      <th>native-country</th>\n",
       "    </tr>\n",
       "  </thead>\n",
       "  <tbody>\n",
       "    <tr>\n",
       "      <td>count</td>\n",
       "      <td>10000</td>\n",
       "      <td>10000.000000</td>\n",
       "      <td>10000.00000</td>\n",
       "      <td>10000</td>\n",
       "      <td>10000</td>\n",
       "      <td>10000</td>\n",
       "      <td>10000</td>\n",
       "      <td>10000</td>\n",
       "      <td>10000</td>\n",
       "    </tr>\n",
       "    <tr>\n",
       "      <td>unique</td>\n",
       "      <td>10000</td>\n",
       "      <td>NaN</td>\n",
       "      <td>NaN</td>\n",
       "      <td>7</td>\n",
       "      <td>7</td>\n",
       "      <td>14</td>\n",
       "      <td>5</td>\n",
       "      <td>2</td>\n",
       "      <td>40</td>\n",
       "    </tr>\n",
       "    <tr>\n",
       "      <td>top</td>\n",
       "      <td>e3022</td>\n",
       "      <td>NaN</td>\n",
       "      <td>NaN</td>\n",
       "      <td>Private</td>\n",
       "      <td>Married-civ-spouse</td>\n",
       "      <td>Prof-specialty</td>\n",
       "      <td>White</td>\n",
       "      <td>Male</td>\n",
       "      <td>United-States</td>\n",
       "    </tr>\n",
       "    <tr>\n",
       "      <td>freq</td>\n",
       "      <td>1</td>\n",
       "      <td>NaN</td>\n",
       "      <td>NaN</td>\n",
       "      <td>7390</td>\n",
       "      <td>4644</td>\n",
       "      <td>1326</td>\n",
       "      <td>8597</td>\n",
       "      <td>6769</td>\n",
       "      <td>9094</td>\n",
       "    </tr>\n",
       "    <tr>\n",
       "      <td>mean</td>\n",
       "      <td>NaN</td>\n",
       "      <td>38.334700</td>\n",
       "      <td>10.11640</td>\n",
       "      <td>NaN</td>\n",
       "      <td>NaN</td>\n",
       "      <td>NaN</td>\n",
       "      <td>NaN</td>\n",
       "      <td>NaN</td>\n",
       "      <td>NaN</td>\n",
       "    </tr>\n",
       "    <tr>\n",
       "      <td>std</td>\n",
       "      <td>NaN</td>\n",
       "      <td>13.079908</td>\n",
       "      <td>2.53998</td>\n",
       "      <td>NaN</td>\n",
       "      <td>NaN</td>\n",
       "      <td>NaN</td>\n",
       "      <td>NaN</td>\n",
       "      <td>NaN</td>\n",
       "      <td>NaN</td>\n",
       "    </tr>\n",
       "    <tr>\n",
       "      <td>min</td>\n",
       "      <td>NaN</td>\n",
       "      <td>17.000000</td>\n",
       "      <td>1.00000</td>\n",
       "      <td>NaN</td>\n",
       "      <td>NaN</td>\n",
       "      <td>NaN</td>\n",
       "      <td>NaN</td>\n",
       "      <td>NaN</td>\n",
       "      <td>NaN</td>\n",
       "    </tr>\n",
       "    <tr>\n",
       "      <td>25%</td>\n",
       "      <td>NaN</td>\n",
       "      <td>28.000000</td>\n",
       "      <td>9.00000</td>\n",
       "      <td>NaN</td>\n",
       "      <td>NaN</td>\n",
       "      <td>NaN</td>\n",
       "      <td>NaN</td>\n",
       "      <td>NaN</td>\n",
       "      <td>NaN</td>\n",
       "    </tr>\n",
       "    <tr>\n",
       "      <td>50%</td>\n",
       "      <td>NaN</td>\n",
       "      <td>37.000000</td>\n",
       "      <td>10.00000</td>\n",
       "      <td>NaN</td>\n",
       "      <td>NaN</td>\n",
       "      <td>NaN</td>\n",
       "      <td>NaN</td>\n",
       "      <td>NaN</td>\n",
       "      <td>NaN</td>\n",
       "    </tr>\n",
       "    <tr>\n",
       "      <td>75%</td>\n",
       "      <td>NaN</td>\n",
       "      <td>47.000000</td>\n",
       "      <td>13.00000</td>\n",
       "      <td>NaN</td>\n",
       "      <td>NaN</td>\n",
       "      <td>NaN</td>\n",
       "      <td>NaN</td>\n",
       "      <td>NaN</td>\n",
       "      <td>NaN</td>\n",
       "    </tr>\n",
       "    <tr>\n",
       "      <td>max</td>\n",
       "      <td>NaN</td>\n",
       "      <td>90.000000</td>\n",
       "      <td>16.00000</td>\n",
       "      <td>NaN</td>\n",
       "      <td>NaN</td>\n",
       "      <td>NaN</td>\n",
       "      <td>NaN</td>\n",
       "      <td>NaN</td>\n",
       "      <td>NaN</td>\n",
       "    </tr>\n",
       "  </tbody>\n",
       "</table>\n",
       "</div>"
      ],
      "text/plain": [
       "          eid           age  education-num work-class      marital-status  \\\n",
       "count   10000  10000.000000    10000.00000      10000               10000   \n",
       "unique  10000           NaN            NaN          7                   7   \n",
       "top     e3022           NaN            NaN    Private  Married-civ-spouse   \n",
       "freq        1           NaN            NaN       7390                4644   \n",
       "mean      NaN     38.334700       10.11640        NaN                 NaN   \n",
       "std       NaN     13.079908        2.53998        NaN                 NaN   \n",
       "min       NaN     17.000000        1.00000        NaN                 NaN   \n",
       "25%       NaN     28.000000        9.00000        NaN                 NaN   \n",
       "50%       NaN     37.000000       10.00000        NaN                 NaN   \n",
       "75%       NaN     47.000000       13.00000        NaN                 NaN   \n",
       "max       NaN     90.000000       16.00000        NaN                 NaN   \n",
       "\n",
       "            occupation   race    sex native-country  \n",
       "count            10000  10000  10000          10000  \n",
       "unique              14      5      2             40  \n",
       "top     Prof-specialty  White   Male  United-States  \n",
       "freq              1326   8597   6769           9094  \n",
       "mean               NaN    NaN    NaN            NaN  \n",
       "std                NaN    NaN    NaN            NaN  \n",
       "min                NaN    NaN    NaN            NaN  \n",
       "25%                NaN    NaN    NaN            NaN  \n",
       "50%                NaN    NaN    NaN            NaN  \n",
       "75%                NaN    NaN    NaN            NaN  \n",
       "max                NaN    NaN    NaN            NaN  "
      ]
     },
     "execution_count": 9,
     "metadata": {},
     "output_type": "execute_result"
    }
   ],
   "source": [
    "data_frame.describe(include = \"all\")"
   ]
  },
  {
   "cell_type": "code",
   "execution_count": 10,
   "metadata": {
    "pycharm": {
     "is_executing": false
    }
   },
   "outputs": [
    {
     "data": {
      "image/png": "[encoded data removed]",
      "text/plain": [
       "<Figure size 432x288 with 1 Axes>"
      ]
     },
     "metadata": {
      "needs_background": "light"
     },
     "output_type": "display_data"
    }
   ],
   "source": [
    "import matplotlib.pyplot as plt\n",
    "\n",
    "bins=[0,10,20,30,40,50,60,70,80,90,100]\n",
    "plt.hist(data_frame.age, bins, histtype='bar', rwidth=0.8)\n",
    "plt.xlabel('age groups')\n",
    "plt.ylabel('Number of people')\n",
    "plt.title('Summary of peoples age')\n",
    "plt.show()"
   ]
  },
  {
   "cell_type": "markdown",
   "metadata": {},
   "source": [
    "After this we figure out one thing, the columns contain so much \"-\" that influence the statistic.\n",
    "So we replace the \"-\" with \"\""
   ]
  },
  {
   "cell_type": "code",
   "execution_count": 11,
   "metadata": {
    "pycharm": {
     "is_executing": false
    },
    "scrolled": true
   },
   "outputs": [
    {
     "data": {
      "text/html": [
       "<div>\n",
       "<style scoped>\n",
       "    .dataframe tbody tr th:only-of-type {\n",
       "        vertical-align: middle;\n",
       "    }\n",
       "\n",
       "    .dataframe tbody tr th {\n",
       "        vertical-align: top;\n",
       "    }\n",
       "\n",
       "    .dataframe thead th {\n",
       "        text-align: right;\n",
       "    }\n",
       "</style>\n",
       "<table border=\"1\" class=\"dataframe\">\n",
       "  <thead>\n",
       "    <tr style=\"text-align: right;\">\n",
       "      <th></th>\n",
       "      <th>eid</th>\n",
       "      <th>age</th>\n",
       "      <th>educationnum</th>\n",
       "      <th>workclass</th>\n",
       "      <th>maritalstatus</th>\n",
       "      <th>occupation</th>\n",
       "      <th>race</th>\n",
       "      <th>sex</th>\n",
       "      <th>nativecountry</th>\n",
       "    </tr>\n",
       "  </thead>\n",
       "  <tbody>\n",
       "    <tr>\n",
       "      <td>0</td>\n",
       "      <td>e1</td>\n",
       "      <td>47</td>\n",
       "      <td>3</td>\n",
       "      <td>Self-emp-inc</td>\n",
       "      <td>Married-civ-spouse</td>\n",
       "      <td>Transport-moving</td>\n",
       "      <td>White</td>\n",
       "      <td>Male</td>\n",
       "      <td>Cuba</td>\n",
       "    </tr>\n",
       "    <tr>\n",
       "      <td>1</td>\n",
       "      <td>e2</td>\n",
       "      <td>52</td>\n",
       "      <td>16</td>\n",
       "      <td>Self-emp-not-inc</td>\n",
       "      <td>Married-civ-spouse</td>\n",
       "      <td>Prof-specialty</td>\n",
       "      <td>White</td>\n",
       "      <td>Male</td>\n",
       "      <td>United-States</td>\n",
       "    </tr>\n",
       "    <tr>\n",
       "      <td>2</td>\n",
       "      <td>e3</td>\n",
       "      <td>26</td>\n",
       "      <td>9</td>\n",
       "      <td>Private</td>\n",
       "      <td>Divorced</td>\n",
       "      <td>Craft-repair</td>\n",
       "      <td>White</td>\n",
       "      <td>Male</td>\n",
       "      <td>United-States</td>\n",
       "    </tr>\n",
       "    <tr>\n",
       "      <td>3</td>\n",
       "      <td>e4</td>\n",
       "      <td>60</td>\n",
       "      <td>9</td>\n",
       "      <td>Private</td>\n",
       "      <td>Married-civ-spouse</td>\n",
       "      <td>Craft-repair</td>\n",
       "      <td>White</td>\n",
       "      <td>Male</td>\n",
       "      <td>United-States</td>\n",
       "    </tr>\n",
       "    <tr>\n",
       "      <td>4</td>\n",
       "      <td>e5</td>\n",
       "      <td>21</td>\n",
       "      <td>10</td>\n",
       "      <td>Private</td>\n",
       "      <td>Never-married</td>\n",
       "      <td>Handlers-cleaners</td>\n",
       "      <td>White</td>\n",
       "      <td>Male</td>\n",
       "      <td>United-States</td>\n",
       "    </tr>\n",
       "    <tr>\n",
       "      <td>...</td>\n",
       "      <td>...</td>\n",
       "      <td>...</td>\n",
       "      <td>...</td>\n",
       "      <td>...</td>\n",
       "      <td>...</td>\n",
       "      <td>...</td>\n",
       "      <td>...</td>\n",
       "      <td>...</td>\n",
       "      <td>...</td>\n",
       "    </tr>\n",
       "    <tr>\n",
       "      <td>9995</td>\n",
       "      <td>e9996</td>\n",
       "      <td>30</td>\n",
       "      <td>9</td>\n",
       "      <td>Private</td>\n",
       "      <td>Married-civ-spouse</td>\n",
       "      <td>Transport-moving</td>\n",
       "      <td>White</td>\n",
       "      <td>Male</td>\n",
       "      <td>United-States</td>\n",
       "    </tr>\n",
       "    <tr>\n",
       "      <td>9996</td>\n",
       "      <td>e9997</td>\n",
       "      <td>36</td>\n",
       "      <td>10</td>\n",
       "      <td>Private</td>\n",
       "      <td>Married-civ-spouse</td>\n",
       "      <td>Sales</td>\n",
       "      <td>Black</td>\n",
       "      <td>Male</td>\n",
       "      <td>United-States</td>\n",
       "    </tr>\n",
       "    <tr>\n",
       "      <td>9997</td>\n",
       "      <td>e9998</td>\n",
       "      <td>70</td>\n",
       "      <td>15</td>\n",
       "      <td>Self-emp-inc</td>\n",
       "      <td>Married-civ-spouse</td>\n",
       "      <td>Prof-specialty</td>\n",
       "      <td>White</td>\n",
       "      <td>Male</td>\n",
       "      <td>United-States</td>\n",
       "    </tr>\n",
       "    <tr>\n",
       "      <td>9998</td>\n",
       "      <td>e9999</td>\n",
       "      <td>55</td>\n",
       "      <td>10</td>\n",
       "      <td>Private</td>\n",
       "      <td>Widowed</td>\n",
       "      <td>Farming-fishing</td>\n",
       "      <td>White</td>\n",
       "      <td>Male</td>\n",
       "      <td>United-States</td>\n",
       "    </tr>\n",
       "    <tr>\n",
       "      <td>9999</td>\n",
       "      <td>e10000</td>\n",
       "      <td>25</td>\n",
       "      <td>13</td>\n",
       "      <td>Private</td>\n",
       "      <td>Widowed</td>\n",
       "      <td>Exec-managerial</td>\n",
       "      <td>White</td>\n",
       "      <td>Female</td>\n",
       "      <td>United-States</td>\n",
       "    </tr>\n",
       "  </tbody>\n",
       "</table>\n",
       "<p>10000 rows × 9 columns</p>\n",
       "</div>"
      ],
      "text/plain": [
       "         eid  age  educationnum         workclass       maritalstatus  \\\n",
       "0         e1   47             3      Self-emp-inc  Married-civ-spouse   \n",
       "1         e2   52            16  Self-emp-not-inc  Married-civ-spouse   \n",
       "2         e3   26             9           Private            Divorced   \n",
       "3         e4   60             9           Private  Married-civ-spouse   \n",
       "4         e5   21            10           Private       Never-married   \n",
       "...      ...  ...           ...               ...                 ...   \n",
       "9995   e9996   30             9           Private  Married-civ-spouse   \n",
       "9996   e9997   36            10           Private  Married-civ-spouse   \n",
       "9997   e9998   70            15      Self-emp-inc  Married-civ-spouse   \n",
       "9998   e9999   55            10           Private             Widowed   \n",
       "9999  e10000   25            13           Private             Widowed   \n",
       "\n",
       "             occupation   race     sex  nativecountry  \n",
       "0      Transport-moving  White    Male           Cuba  \n",
       "1        Prof-specialty  White    Male  United-States  \n",
       "2          Craft-repair  White    Male  United-States  \n",
       "3          Craft-repair  White    Male  United-States  \n",
       "4     Handlers-cleaners  White    Male  United-States  \n",
       "...                 ...    ...     ...            ...  \n",
       "9995   Transport-moving  White    Male  United-States  \n",
       "9996              Sales  Black    Male  United-States  \n",
       "9997     Prof-specialty  White    Male  United-States  \n",
       "9998    Farming-fishing  White    Male  United-States  \n",
       "9999    Exec-managerial  White  Female  United-States  \n",
       "\n",
       "[10000 rows x 9 columns]"
      ]
     },
     "execution_count": 11,
     "metadata": {},
     "output_type": "execute_result"
    }
   ],
   "source": [
    "data_frame.columns=data_frame.columns.str.replace('-','')\n",
    "data_frame"
   ]
  },
  {
   "cell_type": "code",
   "execution_count": 12,
   "metadata": {
    "pycharm": {
     "is_executing": false
    },
    "scrolled": true
   },
   "outputs": [
    {
     "data": {
      "image/png": "[encoded data removed]",
      "text/plain": [
       "<Figure size 432x288 with 1 Axes>"
      ]
     },
     "metadata": {
      "needs_background": "light"
     },
     "output_type": "display_data"
    }
   ],
   "source": [
    "bins=[0,2,4,6,8,10,12,14,16]\n",
    "plt.hist(data_frame.educationnum, bins, histtype='bar', rwidth=0.8)\n",
    "plt.xlabel('Education Grade')\n",
    "plt.ylabel('Number of people')\n",
    "plt.title('Summary of peoples Education background')\n",
    "plt.show()"
   ]
  },
  {
   "cell_type": "code",
   "execution_count": 13,
   "metadata": {
    "pycharm": {
     "is_executing": false
    }
   },
   "outputs": [
    {
     "name": "stdout",
     "output_type": "stream",
     "text": [
      "Index(['Male', 'Female'], dtype='object')\n"
     ]
    },
    {
     "data": {
      "image/png": "[encoded data removed]",
      "text/plain": [
       "<Figure size 432x288 with 1 Axes>"
      ]
     },
     "metadata": {},
     "output_type": "display_data"
    }
   ],
   "source": [
    "colors = ['b', 'g', 'r', 'c', 'm', 'y']\n",
    "print(data_frame['sex'].value_counts().index)\n",
    "plt.pie(data_frame['sex'].value_counts(), colors=colors,labels=data_frame['sex'].value_counts().index, autopct='%1.1f%%')\n",
    "plt.axis('equal')\n",
    "plt.tight_layout()\n",
    "plt.show()\n"
   ]
  },
  {
   "cell_type": "code",
   "execution_count": 14,
   "metadata": {
    "pycharm": {
     "is_executing": false
    }
   },
   "outputs": [
    {
     "data": {
      "image/png": "[encoded data removed]",
      "text/plain": [
       "<Figure size 432x288 with 1 Axes>"
      ]
     },
     "metadata": {},
     "output_type": "display_data"
    },
    {
     "data": {
      "text/plain": [
       "Int64Index([], dtype='int64')"
      ]
     },
     "execution_count": 14,
     "metadata": {},
     "output_type": "execute_result"
    },
    {
     "data": {
      "image/png": "[encoded data removed]",
      "text/plain": [
       "<Figure size 432x288 with 1 Axes>"
      ]
     },
     "metadata": {
      "needs_background": "light"
     },
     "output_type": "display_data"
    }
   ],
   "source": [
    "plt.pie(data_frame['educationnum'].value_counts(), colors=colors, labels = data_frame['educationnum'].value_counts().index, autopct='%1.1f%%')\n",
    "plt.axis('equal')\n",
    "plt.tight_layout()\n",
    "plt.show()\n",
    "data_frame['educationnum'].value_counts().plot(kind='bar')\n",
    "data_frame['educationnum'].value_counts().index[data_frame['educationnum'].value_counts()<2]\n"
   ]
  },
  {
   "cell_type": "code",
   "execution_count": 15,
   "metadata": {
    "pycharm": {
     "is_executing": false
    }
   },
   "outputs": [
    {
     "data": {
      "image/png": "[encoded data removed]",
      "text/plain": [
       "<Figure size 432x288 with 1 Axes>"
      ]
     },
     "metadata": {},
     "output_type": "display_data"
    },
    {
     "data": {
      "text/plain": [
       "Index([], dtype='object')"
      ]
     },
     "execution_count": 15,
     "metadata": {},
     "output_type": "execute_result"
    },
    {
     "data": {
      "image/png": "[encoded data removed]",
      "text/plain": [
       "<Figure size 432x288 with 1 Axes>"
      ]
     },
     "metadata": {
      "needs_background": "light"
     },
     "output_type": "display_data"
    }
   ],
   "source": [
    "plt.pie(data_frame['maritalstatus'].value_counts(), colors=colors, labels = data_frame['maritalstatus'].value_counts().index, autopct='%1.1f%%')\n",
    "plt.axis('equal')\n",
    "plt.tight_layout()\n",
    "plt.show()\n",
    "data_frame['maritalstatus'].value_counts().plot(kind='bar')\n",
    "\n",
    "data_frame['maritalstatus'].value_counts().index[data_frame['maritalstatus'].value_counts()<2]\n",
    "\n",
    "\n"
   ]
  },
  {
   "cell_type": "code",
   "execution_count": 16,
   "metadata": {
    "pycharm": {
     "is_executing": false
    }
   },
   "outputs": [
    {
     "data": {
      "image/png": "[encoded data removed]",
      "text/plain": [
       "<Figure size 432x288 with 1 Axes>"
      ]
     },
     "metadata": {},
     "output_type": "display_data"
    },
    {
     "data": {
      "text/plain": [
       "Index([], dtype='object')"
      ]
     },
     "execution_count": 16,
     "metadata": {},
     "output_type": "execute_result"
    },
    {
     "data": {
      "image/png": "[encoded data removed]",
      "text/plain": [
       "<Figure size 432x288 with 1 Axes>"
      ]
     },
     "metadata": {
      "needs_background": "light"
     },
     "output_type": "display_data"
    }
   ],
   "source": [
    "plt.pie(data_frame['workclass'].value_counts(), colors=colors, labels = data_frame['maritalstatus'].value_counts().index, autopct='%1.1f%%')\n",
    "plt.axis('equal')\n",
    "plt.tight_layout()\n",
    "plt.show()\n",
    "data_frame['workclass'].value_counts().plot(kind='bar')\n",
    "data_frame['workclass'].value_counts().index[data_frame['workclass'].value_counts()<2]\n",
    "\n"
   ]
  },
  {
   "cell_type": "code",
   "execution_count": 17,
   "metadata": {
    "pycharm": {
     "is_executing": false
    }
   },
   "outputs": [
    {
     "data": {
      "image/png": "[encoded data removed]",
      "text/plain": [
       "<Figure size 432x288 with 1 Axes>"
      ]
     },
     "metadata": {},
     "output_type": "display_data"
    },
    {
     "data": {
      "text/plain": [
       "Index(['Hungary'], dtype='object')"
      ]
     },
     "execution_count": 17,
     "metadata": {},
     "output_type": "execute_result"
    },
    {
     "data": {
      "image/png": "[encoded data removed]",
      "text/plain": [
       "<Figure size 432x288 with 1 Axes>"
      ]
     },
     "metadata": {
      "needs_background": "light"
     },
     "output_type": "display_data"
    }
   ],
   "source": [
    "plt.pie(data_frame['nativecountry'].value_counts(), colors=colors, labels = data_frame['nativecountry'].value_counts().index, autopct='%1.1f%%')\n",
    "plt.axis('equal')\n",
    "plt.tight_layout()\n",
    "plt.show()\n",
    "data_frame['nativecountry'].value_counts().plot(kind='bar')\n",
    "data_frame['nativecountry'].value_counts().index[data_frame['nativecountry'].value_counts()<2]"
   ]
  },
  {
   "cell_type": "code",
   "execution_count": 18,
   "metadata": {
    "pycharm": {
     "is_executing": false
    }
   },
   "outputs": [
    {
     "data": {
      "image/png": "[encoded data removed]",
      "text/plain": [
       "<Figure size 432x288 with 1 Axes>"
      ]
     },
     "metadata": {},
     "output_type": "display_data"
    },
    {
     "data": {
      "text/plain": [
       "Index([], dtype='object')"
      ]
     },
     "execution_count": 18,
     "metadata": {},
     "output_type": "execute_result"
    },
    {
     "data": {
      "image/png": "[encoded data removed]",
      "text/plain": [
       "<Figure size 432x288 with 1 Axes>"
      ]
     },
     "metadata": {
      "needs_background": "light"
     },
     "output_type": "display_data"
    }
   ],
   "source": [
    "plt.pie(data_frame['race'].value_counts(), colors=colors, labels = data_frame['race'].value_counts().index, autopct='%1.1f%%')\n",
    "plt.axis('equal')\n",
    "plt.tight_layout()\n",
    "plt.show()\n",
    "data_frame['race'].value_counts().plot(kind='bar')\n",
    "data_frame['race'].value_counts().index[data_frame['race'].value_counts()<2]"
   ]
  },
  {
   "cell_type": "markdown",
   "metadata": {},
   "source": [
    "# Question 2"
   ]
  },
  {
   "cell_type": "markdown",
   "metadata": {},
   "source": [
    "# Question Description: Identification of Privacy sensitive Information: Based on the data analysis you did, identify the explicit identifiers, quasi-identifiers, sensitive attributes and non-sensitive attributes in the dataset. List these attributes with your reasons for your classification. "
   ]
  },
  {
   "cell_type": "markdown",
   "metadata": {},
   "source": [
    "The  <font color=red>explicit identifiers </font> is the eid. Based on the definition from the class, the information that leads to a specific entity is the explicit identifers. Once we know the eid we will know all the information about a specific person."
   ]
  },
  {
   "cell_type": "markdown",
   "metadata": {},
   "source": [
    "The <font color=red>Quasi identifier</font> is a set of values that could be indistinctly matched to at least k respondents. The quasi-identifiers may be known by an intruder. In a quasi-identifier attribute set, the are several attributes. In order to find them, we first calculate the correlation between all features. The features with low correlation tend to form a quasi-identifier attribute set."
   ]
  },
  {
   "cell_type": "code",
   "execution_count": 19,
   "metadata": {
    "pycharm": {
     "is_executing": false
    }
   },
   "outputs": [
    {
     "data": {
      "text/html": [
       "<style  type=\"text/css\" >\n",
       "    #T_49a72472_5852_11ea_946c_acde48001122row0_col0 {\n",
       "            background-color:  #b40426;\n",
       "            color:  #f1f1f1;\n",
       "        }    #T_49a72472_5852_11ea_946c_acde48001122row0_col1 {\n",
       "            background-color:  #6c8ff1;\n",
       "            color:  #000000;\n",
       "        }    #T_49a72472_5852_11ea_946c_acde48001122row0_col2 {\n",
       "            background-color:  #3b4cc0;\n",
       "            color:  #f1f1f1;\n",
       "        }    #T_49a72472_5852_11ea_946c_acde48001122row0_col3 {\n",
       "            background-color:  #3b4cc0;\n",
       "            color:  #f1f1f1;\n",
       "        }    #T_49a72472_5852_11ea_946c_acde48001122row0_col4 {\n",
       "            background-color:  #5f7fe8;\n",
       "            color:  #000000;\n",
       "        }    #T_49a72472_5852_11ea_946c_acde48001122row0_col5 {\n",
       "            background-color:  #4a63d3;\n",
       "            color:  #f1f1f1;\n",
       "        }    #T_49a72472_5852_11ea_946c_acde48001122row0_col6 {\n",
       "            background-color:  #3b4cc0;\n",
       "            color:  #f1f1f1;\n",
       "        }    #T_49a72472_5852_11ea_946c_acde48001122row0_col7 {\n",
       "            background-color:  #4358cb;\n",
       "            color:  #f1f1f1;\n",
       "        }    #T_49a72472_5852_11ea_946c_acde48001122row1_col0 {\n",
       "            background-color:  #81a4fb;\n",
       "            color:  #000000;\n",
       "        }    #T_49a72472_5852_11ea_946c_acde48001122row1_col1 {\n",
       "            background-color:  #b40426;\n",
       "            color:  #f1f1f1;\n",
       "        }    #T_49a72472_5852_11ea_946c_acde48001122row1_col2 {\n",
       "            background-color:  #5e7de7;\n",
       "            color:  #000000;\n",
       "        }    #T_49a72472_5852_11ea_946c_acde48001122row1_col3 {\n",
       "            background-color:  #5d7ce6;\n",
       "            color:  #000000;\n",
       "        }    #T_49a72472_5852_11ea_946c_acde48001122row1_col4 {\n",
       "            background-color:  #3b4cc0;\n",
       "            color:  #f1f1f1;\n",
       "        }    #T_49a72472_5852_11ea_946c_acde48001122row1_col5 {\n",
       "            background-color:  #3b4cc0;\n",
       "            color:  #f1f1f1;\n",
       "        }    #T_49a72472_5852_11ea_946c_acde48001122row1_col6 {\n",
       "            background-color:  #4e68d8;\n",
       "            color:  #000000;\n",
       "        }    #T_49a72472_5852_11ea_946c_acde48001122row1_col7 {\n",
       "            background-color:  #3b4cc0;\n",
       "            color:  #f1f1f1;\n",
       "        }    #T_49a72472_5852_11ea_946c_acde48001122row2_col0 {\n",
       "            background-color:  #6a8bef;\n",
       "            color:  #000000;\n",
       "        }    #T_49a72472_5852_11ea_946c_acde48001122row2_col1 {\n",
       "            background-color:  #779af7;\n",
       "            color:  #000000;\n",
       "        }    #T_49a72472_5852_11ea_946c_acde48001122row2_col2 {\n",
       "            background-color:  #b40426;\n",
       "            color:  #f1f1f1;\n",
       "        }    #T_49a72472_5852_11ea_946c_acde48001122row2_col3 {\n",
       "            background-color:  #8caffe;\n",
       "            color:  #000000;\n",
       "        }    #T_49a72472_5852_11ea_946c_acde48001122row2_col4 {\n",
       "            background-color:  #5977e3;\n",
       "            color:  #000000;\n",
       "        }    #T_49a72472_5852_11ea_946c_acde48001122row2_col5 {\n",
       "            background-color:  #6b8df0;\n",
       "            color:  #000000;\n",
       "        }    #T_49a72472_5852_11ea_946c_acde48001122row2_col6 {\n",
       "            background-color:  #6c8ff1;\n",
       "            color:  #000000;\n",
       "        }    #T_49a72472_5852_11ea_946c_acde48001122row2_col7 {\n",
       "            background-color:  #3d50c3;\n",
       "            color:  #f1f1f1;\n",
       "        }    #T_49a72472_5852_11ea_946c_acde48001122row3_col0 {\n",
       "            background-color:  #3b4cc0;\n",
       "            color:  #f1f1f1;\n",
       "        }    #T_49a72472_5852_11ea_946c_acde48001122row3_col1 {\n",
       "            background-color:  #485fd1;\n",
       "            color:  #f1f1f1;\n",
       "        }    #T_49a72472_5852_11ea_946c_acde48001122row3_col2 {\n",
       "            background-color:  #5d7ce6;\n",
       "            color:  #000000;\n",
       "        }    #T_49a72472_5852_11ea_946c_acde48001122row3_col3 {\n",
       "            background-color:  #b40426;\n",
       "            color:  #f1f1f1;\n",
       "        }    #T_49a72472_5852_11ea_946c_acde48001122row3_col4 {\n",
       "            background-color:  #7295f4;\n",
       "            color:  #000000;\n",
       "        }    #T_49a72472_5852_11ea_946c_acde48001122row3_col5 {\n",
       "            background-color:  #7295f4;\n",
       "            color:  #000000;\n",
       "        }    #T_49a72472_5852_11ea_946c_acde48001122row3_col6 {\n",
       "            background-color:  #c3d5f4;\n",
       "            color:  #000000;\n",
       "        }    #T_49a72472_5852_11ea_946c_acde48001122row3_col7 {\n",
       "            background-color:  #4a63d3;\n",
       "            color:  #f1f1f1;\n",
       "        }    #T_49a72472_5852_11ea_946c_acde48001122row4_col0 {\n",
       "            background-color:  #7597f6;\n",
       "            color:  #000000;\n",
       "        }    #T_49a72472_5852_11ea_946c_acde48001122row4_col1 {\n",
       "            background-color:  #3b4cc0;\n",
       "            color:  #f1f1f1;\n",
       "        }    #T_49a72472_5852_11ea_946c_acde48001122row4_col2 {\n",
       "            background-color:  #3e51c5;\n",
       "            color:  #f1f1f1;\n",
       "        }    #T_49a72472_5852_11ea_946c_acde48001122row4_col3 {\n",
       "            background-color:  #86a9fc;\n",
       "            color:  #000000;\n",
       "        }    #T_49a72472_5852_11ea_946c_acde48001122row4_col4 {\n",
       "            background-color:  #b40426;\n",
       "            color:  #f1f1f1;\n",
       "        }    #T_49a72472_5852_11ea_946c_acde48001122row4_col5 {\n",
       "            background-color:  #5d7ce6;\n",
       "            color:  #000000;\n",
       "        }    #T_49a72472_5852_11ea_946c_acde48001122row4_col6 {\n",
       "            background-color:  #6c8ff1;\n",
       "            color:  #000000;\n",
       "        }    #T_49a72472_5852_11ea_946c_acde48001122row4_col7 {\n",
       "            background-color:  #4c66d6;\n",
       "            color:  #000000;\n",
       "        }    #T_49a72472_5852_11ea_946c_acde48001122row5_col0 {\n",
       "            background-color:  #6f92f3;\n",
       "            color:  #000000;\n",
       "        }    #T_49a72472_5852_11ea_946c_acde48001122row5_col1 {\n",
       "            background-color:  #4b64d5;\n",
       "            color:  #f1f1f1;\n",
       "        }    #T_49a72472_5852_11ea_946c_acde48001122row5_col2 {\n",
       "            background-color:  #6282ea;\n",
       "            color:  #000000;\n",
       "        }    #T_49a72472_5852_11ea_946c_acde48001122row5_col3 {\n",
       "            background-color:  #96b7ff;\n",
       "            color:  #000000;\n",
       "        }    #T_49a72472_5852_11ea_946c_acde48001122row5_col4 {\n",
       "            background-color:  #6e90f2;\n",
       "            color:  #000000;\n",
       "        }    #T_49a72472_5852_11ea_946c_acde48001122row5_col5 {\n",
       "            background-color:  #b40426;\n",
       "            color:  #f1f1f1;\n",
       "        }    #T_49a72472_5852_11ea_946c_acde48001122row5_col6 {\n",
       "            background-color:  #6e90f2;\n",
       "            color:  #000000;\n",
       "        }    #T_49a72472_5852_11ea_946c_acde48001122row5_col7 {\n",
       "            background-color:  #5d7ce6;\n",
       "            color:  #000000;\n",
       "        }    #T_49a72472_5852_11ea_946c_acde48001122row6_col0 {\n",
       "            background-color:  #6384eb;\n",
       "            color:  #000000;\n",
       "        }    #T_49a72472_5852_11ea_946c_acde48001122row6_col1 {\n",
       "            background-color:  #6180e9;\n",
       "            color:  #000000;\n",
       "        }    #T_49a72472_5852_11ea_946c_acde48001122row6_col2 {\n",
       "            background-color:  #6485ec;\n",
       "            color:  #000000;\n",
       "        }    #T_49a72472_5852_11ea_946c_acde48001122row6_col3 {\n",
       "            background-color:  #d9dce1;\n",
       "            color:  #000000;\n",
       "        }    #T_49a72472_5852_11ea_946c_acde48001122row6_col4 {\n",
       "            background-color:  #80a3fa;\n",
       "            color:  #000000;\n",
       "        }    #T_49a72472_5852_11ea_946c_acde48001122row6_col5 {\n",
       "            background-color:  #6f92f3;\n",
       "            color:  #000000;\n",
       "        }    #T_49a72472_5852_11ea_946c_acde48001122row6_col6 {\n",
       "            background-color:  #b40426;\n",
       "            color:  #f1f1f1;\n",
       "        }    #T_49a72472_5852_11ea_946c_acde48001122row6_col7 {\n",
       "            background-color:  #455cce;\n",
       "            color:  #f1f1f1;\n",
       "        }    #T_49a72472_5852_11ea_946c_acde48001122row7_col0 {\n",
       "            background-color:  #7597f6;\n",
       "            color:  #000000;\n",
       "        }    #T_49a72472_5852_11ea_946c_acde48001122row7_col1 {\n",
       "            background-color:  #5673e0;\n",
       "            color:  #000000;\n",
       "        }    #T_49a72472_5852_11ea_946c_acde48001122row7_col2 {\n",
       "            background-color:  #3e51c5;\n",
       "            color:  #f1f1f1;\n",
       "        }    #T_49a72472_5852_11ea_946c_acde48001122row7_col3 {\n",
       "            background-color:  #7b9ff9;\n",
       "            color:  #000000;\n",
       "        }    #T_49a72472_5852_11ea_946c_acde48001122row7_col4 {\n",
       "            background-color:  #688aef;\n",
       "            color:  #000000;\n",
       "        }    #T_49a72472_5852_11ea_946c_acde48001122row7_col5 {\n",
       "            background-color:  #688aef;\n",
       "            color:  #000000;\n",
       "        }    #T_49a72472_5852_11ea_946c_acde48001122row7_col6 {\n",
       "            background-color:  #4e68d8;\n",
       "            color:  #000000;\n",
       "        }    #T_49a72472_5852_11ea_946c_acde48001122row7_col7 {\n",
       "            background-color:  #b40426;\n",
       "            color:  #f1f1f1;\n",
       "        }</style><table id=\"T_49a72472_5852_11ea_946c_acde48001122\" ><thead>    <tr>        <th class=\"blank level0\" ></th>        <th class=\"col_heading level0 col0\" >age</th>        <th class=\"col_heading level0 col1\" >educationnum</th>        <th class=\"col_heading level0 col2\" >workclass</th>        <th class=\"col_heading level0 col3\" >maritalstatus</th>        <th class=\"col_heading level0 col4\" >occupation</th>        <th class=\"col_heading level0 col5\" >race</th>        <th class=\"col_heading level0 col6\" >sex</th>        <th class=\"col_heading level0 col7\" >nativecountry</th>    </tr></thead><tbody>\n",
       "                <tr>\n",
       "                        <th id=\"T_49a72472_5852_11ea_946c_acde48001122level0_row0\" class=\"row_heading level0 row0\" >age</th>\n",
       "                        <td id=\"T_49a72472_5852_11ea_946c_acde48001122row0_col0\" class=\"data row0 col0\" >1</td>\n",
       "                        <td id=\"T_49a72472_5852_11ea_946c_acde48001122row0_col1\" class=\"data row0 col1\" >0.0362211</td>\n",
       "                        <td id=\"T_49a72472_5852_11ea_946c_acde48001122row0_col2\" class=\"data row0 col2\" >-0.0448231</td>\n",
       "                        <td id=\"T_49a72472_5852_11ea_946c_acde48001122row0_col3\" class=\"data row0 col3\" >-0.23057</td>\n",
       "                        <td id=\"T_49a72472_5852_11ea_946c_acde48001122row0_col4\" class=\"data row0 col4\" >-0.00789415</td>\n",
       "                        <td id=\"T_49a72472_5852_11ea_946c_acde48001122row0_col5\" class=\"data row0 col5\" >-0.0239237</td>\n",
       "                        <td id=\"T_49a72472_5852_11ea_946c_acde48001122row0_col6\" class=\"data row0 col6\" >-0.0707318</td>\n",
       "                        <td id=\"T_49a72472_5852_11ea_946c_acde48001122row0_col7\" class=\"data row0 col7\" >-0.00712265</td>\n",
       "            </tr>\n",
       "            <tr>\n",
       "                        <th id=\"T_49a72472_5852_11ea_946c_acde48001122level0_row1\" class=\"row_heading level0 row1\" >educationnum</th>\n",
       "                        <td id=\"T_49a72472_5852_11ea_946c_acde48001122row1_col0\" class=\"data row1 col0\" >0.0362211</td>\n",
       "                        <td id=\"T_49a72472_5852_11ea_946c_acde48001122row1_col1\" class=\"data row1 col1\" >1</td>\n",
       "                        <td id=\"T_49a72472_5852_11ea_946c_acde48001122row1_col2\" class=\"data row1 col2\" >0.073641</td>\n",
       "                        <td id=\"T_49a72472_5852_11ea_946c_acde48001122row1_col3\" class=\"data row1 col3\" >-0.0939918</td>\n",
       "                        <td id=\"T_49a72472_5852_11ea_946c_acde48001122row1_col4\" class=\"data row1 col4\" >-0.143477</td>\n",
       "                        <td id=\"T_49a72472_5852_11ea_946c_acde48001122row1_col5\" class=\"data row1 col5\" >-0.0789138</td>\n",
       "                        <td id=\"T_49a72472_5852_11ea_946c_acde48001122row1_col6\" class=\"data row1 col6\" >-0.000933533</td>\n",
       "                        <td id=\"T_49a72472_5852_11ea_946c_acde48001122row1_col7\" class=\"data row1 col7\" >-0.0376859</td>\n",
       "            </tr>\n",
       "            <tr>\n",
       "                        <th id=\"T_49a72472_5852_11ea_946c_acde48001122level0_row2\" class=\"row_heading level0 row2\" >workclass</th>\n",
       "                        <td id=\"T_49a72472_5852_11ea_946c_acde48001122row2_col0\" class=\"data row2 col0\" >-0.0448231</td>\n",
       "                        <td id=\"T_49a72472_5852_11ea_946c_acde48001122row2_col1\" class=\"data row2 col1\" >0.073641</td>\n",
       "                        <td id=\"T_49a72472_5852_11ea_946c_acde48001122row2_col2\" class=\"data row2 col2\" >1</td>\n",
       "                        <td id=\"T_49a72472_5852_11ea_946c_acde48001122row2_col3\" class=\"data row2 col3\" >0.0726341</td>\n",
       "                        <td id=\"T_49a72472_5852_11ea_946c_acde48001122row2_col4\" class=\"data row2 col4\" >-0.0303267</td>\n",
       "                        <td id=\"T_49a72472_5852_11ea_946c_acde48001122row2_col5\" class=\"data row2 col5\" >0.0887105</td>\n",
       "                        <td id=\"T_49a72472_5852_11ea_946c_acde48001122row2_col6\" class=\"data row2 col6\" >0.0965835</td>\n",
       "                        <td id=\"T_49a72472_5852_11ea_946c_acde48001122row2_col7\" class=\"data row2 col7\" >-0.0285885</td>\n",
       "            </tr>\n",
       "            <tr>\n",
       "                        <th id=\"T_49a72472_5852_11ea_946c_acde48001122level0_row3\" class=\"row_heading level0 row3\" >maritalstatus</th>\n",
       "                        <td id=\"T_49a72472_5852_11ea_946c_acde48001122row3_col0\" class=\"data row3 col0\" >-0.23057</td>\n",
       "                        <td id=\"T_49a72472_5852_11ea_946c_acde48001122row3_col1\" class=\"data row3 col1\" >-0.0939918</td>\n",
       "                        <td id=\"T_49a72472_5852_11ea_946c_acde48001122row3_col2\" class=\"data row3 col2\" >0.0726341</td>\n",
       "                        <td id=\"T_49a72472_5852_11ea_946c_acde48001122row3_col3\" class=\"data row3 col3\" >1</td>\n",
       "                        <td id=\"T_49a72472_5852_11ea_946c_acde48001122row3_col4\" class=\"data row3 col4\" >0.0542057</td>\n",
       "                        <td id=\"T_49a72472_5852_11ea_946c_acde48001122row3_col5\" class=\"data row3 col5\" >0.107589</td>\n",
       "                        <td id=\"T_49a72472_5852_11ea_946c_acde48001122row3_col6\" class=\"data row3 col6\" >0.368047</td>\n",
       "                        <td id=\"T_49a72472_5852_11ea_946c_acde48001122row3_col7\" class=\"data row3 col7\" >0.0157997</td>\n",
       "            </tr>\n",
       "            <tr>\n",
       "                        <th id=\"T_49a72472_5852_11ea_946c_acde48001122level0_row4\" class=\"row_heading level0 row4\" >occupation</th>\n",
       "                        <td id=\"T_49a72472_5852_11ea_946c_acde48001122row4_col0\" class=\"data row4 col0\" >-0.00789415</td>\n",
       "                        <td id=\"T_49a72472_5852_11ea_946c_acde48001122row4_col1\" class=\"data row4 col1\" >-0.143477</td>\n",
       "                        <td id=\"T_49a72472_5852_11ea_946c_acde48001122row4_col2\" class=\"data row4 col2\" >-0.0303267</td>\n",
       "                        <td id=\"T_49a72472_5852_11ea_946c_acde48001122row4_col3\" class=\"data row4 col3\" >0.0542057</td>\n",
       "                        <td id=\"T_49a72472_5852_11ea_946c_acde48001122row4_col4\" class=\"data row4 col4\" >1</td>\n",
       "                        <td id=\"T_49a72472_5852_11ea_946c_acde48001122row4_col5\" class=\"data row4 col5\" >0.0418508</td>\n",
       "                        <td id=\"T_49a72472_5852_11ea_946c_acde48001122row4_col6\" class=\"data row4 col6\" >0.0992172</td>\n",
       "                        <td id=\"T_49a72472_5852_11ea_946c_acde48001122row4_col7\" class=\"data row4 col7\" >0.0255744</td>\n",
       "            </tr>\n",
       "            <tr>\n",
       "                        <th id=\"T_49a72472_5852_11ea_946c_acde48001122level0_row5\" class=\"row_heading level0 row5\" >race</th>\n",
       "                        <td id=\"T_49a72472_5852_11ea_946c_acde48001122row5_col0\" class=\"data row5 col0\" >-0.0239237</td>\n",
       "                        <td id=\"T_49a72472_5852_11ea_946c_acde48001122row5_col1\" class=\"data row5 col1\" >-0.0789138</td>\n",
       "                        <td id=\"T_49a72472_5852_11ea_946c_acde48001122row5_col2\" class=\"data row5 col2\" >0.0887105</td>\n",
       "                        <td id=\"T_49a72472_5852_11ea_946c_acde48001122row5_col3\" class=\"data row5 col3\" >0.107589</td>\n",
       "                        <td id=\"T_49a72472_5852_11ea_946c_acde48001122row5_col4\" class=\"data row5 col4\" >0.0418508</td>\n",
       "                        <td id=\"T_49a72472_5852_11ea_946c_acde48001122row5_col5\" class=\"data row5 col5\" >1</td>\n",
       "                        <td id=\"T_49a72472_5852_11ea_946c_acde48001122row5_col6\" class=\"data row5 col6\" >0.102183</td>\n",
       "                        <td id=\"T_49a72472_5852_11ea_946c_acde48001122row5_col7\" class=\"data row5 col7\" >0.0784093</td>\n",
       "            </tr>\n",
       "            <tr>\n",
       "                        <th id=\"T_49a72472_5852_11ea_946c_acde48001122level0_row6\" class=\"row_heading level0 row6\" >sex</th>\n",
       "                        <td id=\"T_49a72472_5852_11ea_946c_acde48001122row6_col0\" class=\"data row6 col0\" >-0.0707318</td>\n",
       "                        <td id=\"T_49a72472_5852_11ea_946c_acde48001122row6_col1\" class=\"data row6 col1\" >-0.000933533</td>\n",
       "                        <td id=\"T_49a72472_5852_11ea_946c_acde48001122row6_col2\" class=\"data row6 col2\" >0.0965835</td>\n",
       "                        <td id=\"T_49a72472_5852_11ea_946c_acde48001122row6_col3\" class=\"data row6 col3\" >0.368047</td>\n",
       "                        <td id=\"T_49a72472_5852_11ea_946c_acde48001122row6_col4\" class=\"data row6 col4\" >0.0992172</td>\n",
       "                        <td id=\"T_49a72472_5852_11ea_946c_acde48001122row6_col5\" class=\"data row6 col5\" >0.102183</td>\n",
       "                        <td id=\"T_49a72472_5852_11ea_946c_acde48001122row6_col6\" class=\"data row6 col6\" >1</td>\n",
       "                        <td id=\"T_49a72472_5852_11ea_946c_acde48001122row6_col7\" class=\"data row6 col7\" >-0.000442999</td>\n",
       "            </tr>\n",
       "            <tr>\n",
       "                        <th id=\"T_49a72472_5852_11ea_946c_acde48001122level0_row7\" class=\"row_heading level0 row7\" >nativecountry</th>\n",
       "                        <td id=\"T_49a72472_5852_11ea_946c_acde48001122row7_col0\" class=\"data row7 col0\" >-0.00712265</td>\n",
       "                        <td id=\"T_49a72472_5852_11ea_946c_acde48001122row7_col1\" class=\"data row7 col1\" >-0.0376859</td>\n",
       "                        <td id=\"T_49a72472_5852_11ea_946c_acde48001122row7_col2\" class=\"data row7 col2\" >-0.0285885</td>\n",
       "                        <td id=\"T_49a72472_5852_11ea_946c_acde48001122row7_col3\" class=\"data row7 col3\" >0.0157997</td>\n",
       "                        <td id=\"T_49a72472_5852_11ea_946c_acde48001122row7_col4\" class=\"data row7 col4\" >0.0255744</td>\n",
       "                        <td id=\"T_49a72472_5852_11ea_946c_acde48001122row7_col5\" class=\"data row7 col5\" >0.0784093</td>\n",
       "                        <td id=\"T_49a72472_5852_11ea_946c_acde48001122row7_col6\" class=\"data row7 col6\" >-0.000442999</td>\n",
       "                        <td id=\"T_49a72472_5852_11ea_946c_acde48001122row7_col7\" class=\"data row7 col7\" >1</td>\n",
       "            </tr>\n",
       "    </tbody></table>"
      ],
      "text/plain": [
       "<pandas.io.formats.style.Styler at 0x12b505410>"
      ]
     },
     "execution_count": 19,
     "metadata": {},
     "output_type": "execute_result"
    }
   ],
   "source": [
    "copy_df = data_frame.copy().iloc[:, 1:]\n",
    "for (columnName, columnData) in copy_df.iteritems():\n",
    "    if columnData.dtype != 'int64':\n",
    "        labels, uniques = pd.factorize(columnData)\n",
    "        copy_df[columnName] = labels\n",
    "correlation = copy_df.corr()\n",
    "correlation.style.background_gradient(cmap='coolwarm')"
   ]
  },
  {
   "cell_type": "markdown",
   "metadata": {},
   "source": [
    "We can easily see some feature have higher correlation, such as age have relatively strong correlation with workclass, marital status. We choose age, educationnum, race, occupation, workclass as the <font color=red>QI</font>, and maritalstatus as <font color=red>sensitive data</font>. For the <font color=red>non-sensetive</font> data, we choose the nativecountry, sex and workclass since there corrlation is less with the other variables."
   ]
  },
  {
   "cell_type": "code",
   "execution_count": 20,
   "metadata": {
    "pycharm": {
     "is_executing": false,
     "name": "#%%\n"
    }
   },
   "outputs": [],
   "source": [
    "feature_columns = ['age', 'educationnum', 'race', 'occupation']\n",
    "numerical = ['age', 'educationnum']\n",
    "sensitive_column = \"maritalstatus\"\n",
    "data_frame = data_frame.drop(columns=['eid','sex',\"workclass\", \"nativecountry\"])"
   ]
  },
  {
   "cell_type": "markdown",
   "metadata": {},
   "source": [
    "# Question 3 K-Anonymization"
   ]
  },
  {
   "cell_type": "markdown",
   "metadata": {},
   "source": [
    "Refer to this code https://github.com/Nuclearstar/K-Anonymity/blob/master/k-Anonymity.ipynb, We first define a function to get the span of our partition. For each feature, it have the paticipation catergory in non-nuerical data, and in numerical data, it has a range of the dataset. "
   ]
  },
  {
   "cell_type": "code",
   "execution_count": 21,
   "metadata": {
    "pycharm": {
     "is_executing": false
    }
   },
   "outputs": [],
   "source": [
    "# we have the dataset that contains both the numerical dataset and the non-numerical dataset\n",
    "# we have to calcluate the range of the dataset.\n",
    "def get_spans(df, partition, scale=None):\n",
    "    spans = {}\n",
    "    for feature in df.columns:\n",
    "        if feature not in numerical:\n",
    "            span = len(df[feature][partition].unique())\n",
    "        else:\n",
    "            span = df[feature][partition].max() - df[feature][partition].min()\n",
    "        if scale is not None:\n",
    "            span = span / scale[feature]\n",
    "        spans[feature] = span\n",
    "    return spans"
   ]
  },
  {
   "cell_type": "markdown",
   "metadata": {},
   "source": [
    "The we define the func to split specify column, for the numerical values, we did the anonymization by replacing the data with the average. The author use the link of the variables and select the medium value of the items. "
   ]
  },
  {
   "cell_type": "code",
   "execution_count": 22,
   "metadata": {
    "pycharm": {
     "is_executing": false,
     "name": "#%%\n"
    }
   },
   "outputs": [],
   "source": [
    "# This part of the code talking about the median number of the age and the graduatation level. \n",
    "def split(df, partition, column):\n",
    "    dfp = df[column][partition]\n",
    "    if column in numerical:\n",
    "        median = dfp.median()\n",
    "        dfl = dfp.index[dfp < median]\n",
    "        dfr = dfp.index[dfp >= median]\n",
    "        return dfl, dfr\n",
    "    else:\n",
    "        values = dfp.unique()\n",
    "        lv = set(values[:len(values) // 2])\n",
    "        rv = set(values[len(values) // 2:])\n",
    "        return dfp.index[dfp.isin(lv)], dfp.index[dfp.isin(rv)]"
   ]
  },
  {
   "cell_type": "markdown",
   "metadata": {},
   "source": [
    "Judge whether a partition is ok with specified k. The similar anonymization method also could be used in selecting the k method is also used in the lecture's code. "
   ]
  },
  {
   "cell_type": "code",
   "execution_count": 23,
   "metadata": {
    "pycharm": {
     "is_executing": false,
     "name": "#%%\n"
    }
   },
   "outputs": [],
   "source": [
    "def is_k_anonymous(partition, k = 3):\n",
    "    if len(partition) < k:\n",
    "        return False\n",
    "    return True"
   ]
  },
  {
   "cell_type": "markdown",
   "metadata": {},
   "source": [
    "Define a function to partition dataset, The pop(0) tried to pop the title of the column. "
   ]
  },
  {
   "cell_type": "code",
   "execution_count": 24,
   "metadata": {
    "pycharm": {
     "is_executing": false,
     "name": "#%%\n"
    }
   },
   "outputs": [],
   "source": [
    "def partition_dataset(df, QI, sensitive_column, scale, k):\n",
    "    finished_partitions = []\n",
    "    partitions = [df.index]\n",
    "    while partitions:\n",
    "        partition = partitions.pop(0)\n",
    "        spans = get_spans(df[QI], partition, scale)\n",
    "        for column, span in sorted(spans.items(), key=lambda x: -x[1]):\n",
    "            lp, rp = split(df, partition, column)\n",
    "            if len(lp) < k or len(rp) < k:\n",
    "                continue\n",
    "            partitions.append(lp)\n",
    "            partitions.append(rp)\n",
    "            break\n",
    "        else:\n",
    "            finished_partitions.append(partition)\n",
    "    return finished_partitions"
   ]
  },
  {
   "cell_type": "markdown",
   "metadata": {},
   "source": [
    "Define a function to partion dataset. After trying this dataset we figure out its output is less than 500, so I rewrite the code here to show the anonimaztion of the dataframe."
   ]
  },
  {
   "cell_type": "code",
   "execution_count": 25,
   "metadata": {
    "pycharm": {
     "is_executing": false,
     "name": "#%%\n"
    }
   },
   "outputs": [],
   "source": [
    "#the data needed to be join if the data is sensetive and need anonymization.\n",
    "#def agg_categorical_column(series):\n",
    "#    return [','.join(set(series))]\n",
    "\n",
    "#def agg_numerical_column(series):\n",
    "#    return [series.mean()]\n",
    "\n",
    "#def build_dataset(df, partitions, feature_columns, sensitive_column):\n",
    "#    aggregations = {}\n",
    "#    for column in feature_columns:\n",
    "#        if column not in numerical:\n",
    "#            aggregations[column] = agg_categorical_column\n",
    "#        else:\n",
    "#            aggregations[column] = agg_numerical_column\n",
    "#    rows = []\n",
    "#    for i, partition in enumerate(partitions):\n",
    "#        partition = df.loc[partition]\n",
    "#        grouped_columns = partition.agg(aggregations, squeeze=False)\n",
    "#        sensitive_counts = partition.groupby(sensitive_column).agg({sensitive_column: 'count'})\n",
    "#        values = grouped_columns.iloc[0].to_dict()\n",
    "#        for sensitive_value, count in sensitive_counts[sensitive_column].items():\n",
    "#            if count == 0:\n",
    "#                continue\n",
    "#            values.update({\n",
    "#                sensitive_column: sensitive_value,\n",
    "#            })\n",
    "#            rows.append(values.copy())\n",
    "#    return pd.DataFrame(rows)\n",
    "\n",
    "#for column in data_frame.columns:\n",
    "#    if column not in numerical:\n",
    "#        data_frame[column] = data_frame[column].astype('category')\n",
    "\n",
    "#full_spans = get_spans(data_frame, data_frame.index)\n",
    "#finished_partitions = partition_dataset(data_frame, feature_columns, sensitive_column, full_spans, 3)\n",
    "#dfn = build_dataset(data_frame, finished_partitions, feature_columns, sensitive_column)\n",
    "#dfn"
   ]
  },
  {
   "cell_type": "code",
   "execution_count": 26,
   "metadata": {},
   "outputs": [
    {
     "data": {
      "text/html": [
       "<div>\n",
       "<style scoped>\n",
       "    .dataframe tbody tr th:only-of-type {\n",
       "        vertical-align: middle;\n",
       "    }\n",
       "\n",
       "    .dataframe tbody tr th {\n",
       "        vertical-align: top;\n",
       "    }\n",
       "\n",
       "    .dataframe thead th {\n",
       "        text-align: right;\n",
       "    }\n",
       "</style>\n",
       "<table border=\"1\" class=\"dataframe\">\n",
       "  <thead>\n",
       "    <tr style=\"text-align: right;\">\n",
       "      <th></th>\n",
       "      <th>age</th>\n",
       "      <th>educationnum</th>\n",
       "      <th>maritalstatus</th>\n",
       "      <th>occupation</th>\n",
       "      <th>race</th>\n",
       "    </tr>\n",
       "  </thead>\n",
       "  <tbody>\n",
       "    <tr>\n",
       "      <td>0</td>\n",
       "      <td>43.3333</td>\n",
       "      <td>3</td>\n",
       "      <td>Married-civ-spouse</td>\n",
       "      <td>Transport-moving</td>\n",
       "      <td>White</td>\n",
       "    </tr>\n",
       "    <tr>\n",
       "      <td>1</td>\n",
       "      <td>52.4</td>\n",
       "      <td>16</td>\n",
       "      <td>Married-civ-spouse</td>\n",
       "      <td>Prof-specialty</td>\n",
       "      <td>White</td>\n",
       "    </tr>\n",
       "    <tr>\n",
       "      <td>2</td>\n",
       "      <td>26</td>\n",
       "      <td>9</td>\n",
       "      <td>Divorced</td>\n",
       "      <td>Craft-repair</td>\n",
       "      <td>White</td>\n",
       "    </tr>\n",
       "    <tr>\n",
       "      <td>3</td>\n",
       "      <td>60</td>\n",
       "      <td>9</td>\n",
       "      <td>Married-civ-spouse</td>\n",
       "      <td>Craft-repair</td>\n",
       "      <td>White</td>\n",
       "    </tr>\n",
       "    <tr>\n",
       "      <td>4</td>\n",
       "      <td>20.4706</td>\n",
       "      <td>10.2941</td>\n",
       "      <td>Never-married</td>\n",
       "      <td>Handlers-cleaners</td>\n",
       "      <td>White</td>\n",
       "    </tr>\n",
       "    <tr>\n",
       "      <td>...</td>\n",
       "      <td>...</td>\n",
       "      <td>...</td>\n",
       "      <td>...</td>\n",
       "      <td>...</td>\n",
       "      <td>...</td>\n",
       "    </tr>\n",
       "    <tr>\n",
       "      <td>9995</td>\n",
       "      <td>30</td>\n",
       "      <td>9</td>\n",
       "      <td>Married-civ-spouse</td>\n",
       "      <td>Transport-moving</td>\n",
       "      <td>White</td>\n",
       "    </tr>\n",
       "    <tr>\n",
       "      <td>9996</td>\n",
       "      <td>35.3333</td>\n",
       "      <td>10</td>\n",
       "      <td>Married-civ-spouse</td>\n",
       "      <td>Sales</td>\n",
       "      <td>Black</td>\n",
       "    </tr>\n",
       "    <tr>\n",
       "      <td>9997</td>\n",
       "      <td>69</td>\n",
       "      <td>15</td>\n",
       "      <td>Married-civ-spouse</td>\n",
       "      <td>Prof-specialty</td>\n",
       "      <td>White</td>\n",
       "    </tr>\n",
       "    <tr>\n",
       "      <td>9998</td>\n",
       "      <td>54.5</td>\n",
       "      <td>10</td>\n",
       "      <td>Widowed</td>\n",
       "      <td>Farming-fishing</td>\n",
       "      <td>White</td>\n",
       "    </tr>\n",
       "    <tr>\n",
       "      <td>9999</td>\n",
       "      <td>25</td>\n",
       "      <td>13.0556</td>\n",
       "      <td>Widowed</td>\n",
       "      <td>Exec-managerial</td>\n",
       "      <td>White</td>\n",
       "    </tr>\n",
       "  </tbody>\n",
       "</table>\n",
       "<p>10000 rows × 5 columns</p>\n",
       "</div>"
      ],
      "text/plain": [
       "          age educationnum       maritalstatus         occupation   race\n",
       "0     43.3333            3  Married-civ-spouse   Transport-moving  White\n",
       "1        52.4           16  Married-civ-spouse     Prof-specialty  White\n",
       "2          26            9            Divorced       Craft-repair  White\n",
       "3          60            9  Married-civ-spouse       Craft-repair  White\n",
       "4     20.4706      10.2941       Never-married  Handlers-cleaners  White\n",
       "...       ...          ...                 ...                ...    ...\n",
       "9995       30            9  Married-civ-spouse   Transport-moving  White\n",
       "9996  35.3333           10  Married-civ-spouse              Sales  Black\n",
       "9997       69           15  Married-civ-spouse     Prof-specialty  White\n",
       "9998     54.5           10             Widowed    Farming-fishing  White\n",
       "9999       25      13.0556             Widowed    Exec-managerial  White\n",
       "\n",
       "[10000 rows x 5 columns]"
      ]
     },
     "execution_count": 26,
     "metadata": {},
     "output_type": "execute_result"
    }
   ],
   "source": [
    "def agg_categorical_column(series):\n",
    "    return [','.join(set(series))]\n",
    "\n",
    "\n",
    "def agg_numerical_column(series):\n",
    "    return [series.mean()]\n",
    "\n",
    "\n",
    "def build_dataset(df, partitions, feature_columns, sensitive_column):\n",
    "    aggregations = {}\n",
    "    ret = pd.DataFrame(None, index=np.arange(df.shape[0]), columns=df.columns)\n",
    "    for column in feature_columns:\n",
    "        if column in numerical:\n",
    "            aggregations[column] = agg_numerical_column\n",
    "        else:\n",
    "            aggregations[column] = agg_categorical_column\n",
    "    rows = []\n",
    "    for i, partition in enumerate(partitions):\n",
    "        grouped_columns = df.loc[partition].agg(aggregations, squeeze=False)\n",
    "        for j in partition:\n",
    "            for column in grouped_columns.columns:\n",
    "                ret[column][j] = grouped_columns[column][0]\n",
    "            ret[sensitive_column][j] = df [sensitive_column][j]\n",
    "    return ret\n",
    " \n",
    "for column in data_frame.columns:\n",
    "    if column not in numerical:\n",
    "        data_frame[column] = data_frame[column].astype('category')\n",
    "\n",
    "full_spans = get_spans(data_frame, data_frame.index)\n",
    "finished_partitions = partition_dataset(data_frame, feature_columns, sensitive_column, full_spans, 3)\n",
    "dfn = build_dataset(data_frame, finished_partitions, feature_columns, sensitive_column)\n",
    "dfn"
   ]
  },
  {
   "cell_type": "markdown",
   "metadata": {},
   "source": [
    "#  We could see except for the marriage status, the Qi have been changed using the combination of the occupation and the race.  "
   ]
  },
  {
   "cell_type": "markdown",
   "metadata": {},
   "source": [
    "# Question 4 Analysis: Explain how your solution impacts the utility of the dataset. Does it retain the original data distribution. Provide at least two queries as test examples to show the differences in utility before and after the anonymization."
   ]
  },
  {
   "cell_type": "code",
   "execution_count": 27,
   "metadata": {},
   "outputs": [
    {
     "name": "stdout",
     "output_type": "stream",
     "text": [
      "count    10000.000000\n",
      "mean        38.334700\n",
      "std         13.079908\n",
      "min         17.000000\n",
      "25%         28.000000\n",
      "50%         37.000000\n",
      "75%         47.000000\n",
      "max         90.000000\n",
      "Name: age, dtype: float64\n",
      "count    10000.000000\n",
      "mean        38.334700\n",
      "std         13.018287\n",
      "min         17.000000\n",
      "25%         28.000000\n",
      "50%         37.000000\n",
      "75%         47.000000\n",
      "max         90.000000\n",
      "Name: age, dtype: float64\n"
     ]
    }
   ],
   "source": [
    "data_frame['age'] = data_frame['age'].astype('float')\n",
    "dfn['age'] = dfn['age'].astype('float')\n",
    "print(data_frame.age.describe())\n",
    "print(dfn.age.describe())"
   ]
  },
  {
   "cell_type": "code",
   "execution_count": 28,
   "metadata": {},
   "outputs": [
    {
     "data": {
      "image/png": "[encoded data removed]",
      "text/plain": [
       "<Figure size 432x288 with 1 Axes>"
      ]
     },
     "metadata": {
      "needs_background": "light"
     },
     "output_type": "display_data"
    },
    {
     "data": {
      "image/png": "[encoded data removed]",
      "text/plain": [
       "<Figure size 432x288 with 1 Axes>"
      ]
     },
     "metadata": {
      "needs_background": "light"
     },
     "output_type": "display_data"
    }
   ],
   "source": [
    "bins=[0,5,10,15,20,25,30,35,40,45,50,55,60,65,70,75,80,85,90]\n",
    "plt.hist(data_frame.age, bins, histtype='bar', rwidth=0.8)\n",
    "plt.xlabel('age groups')\n",
    "plt.ylabel('Number of people')\n",
    "plt.title('Age Summary before the anonlymization')\n",
    "plt.show()\n",
    "\n",
    "\n",
    "\n",
    "bins=[0,5,10,15,20,25,30,35,40,45,50,55,60,65,70,75,80,85,90]\n",
    "plt.hist(data_frame.age, bins, histtype='bar', rwidth=0.8)\n",
    "plt.xlabel('age groups')\n",
    "plt.ylabel('Number of people')\n",
    "plt.title('Age Summary after the anonlymization')\n",
    "plt.show()"
   ]
  },
  {
   "cell_type": "code",
   "execution_count": 29,
   "metadata": {},
   "outputs": [
    {
     "name": "stdout",
     "output_type": "stream",
     "text": [
      "count    10000.00000\n",
      "mean        10.11640\n",
      "std          2.53998\n",
      "min          1.00000\n",
      "25%          9.00000\n",
      "50%         10.00000\n",
      "75%         13.00000\n",
      "max         16.00000\n",
      "Name: educationnum, dtype: float64\n",
      "count    10000.000000\n",
      "mean        10.116400\n",
      "std          2.491534\n",
      "min          1.000000\n",
      "25%          9.000000\n",
      "50%         10.000000\n",
      "75%         12.000000\n",
      "max         16.000000\n",
      "Name: educationnum, dtype: float64\n"
     ]
    }
   ],
   "source": [
    "data_frame['educationnum'] = data_frame['educationnum'].astype('float')\n",
    "dfn['educationnum'] = dfn['educationnum'].astype('float')\n",
    "print(data_frame.educationnum.describe())\n",
    "print(dfn.educationnum.describe())"
   ]
  },
  {
   "cell_type": "code",
   "execution_count": 30,
   "metadata": {},
   "outputs": [
    {
     "data": {
      "image/png": "[encoded data removed]",
      "text/plain": [
       "<Figure size 432x288 with 1 Axes>"
      ]
     },
     "metadata": {
      "needs_background": "light"
     },
     "output_type": "display_data"
    },
    {
     "data": {
      "image/png": "[encoded data removed]",
      "text/plain": [
       "<Figure size 432x288 with 1 Axes>"
      ]
     },
     "metadata": {
      "needs_background": "light"
     },
     "output_type": "display_data"
    }
   ],
   "source": [
    "bins=[0,2,4,6,8,10,12,14,16]\n",
    "plt.hist(data_frame.educationnum, bins, histtype='bar', rwidth=0.8)\n",
    "plt.xlabel('Education Grade')\n",
    "plt.ylabel('Number of people')\n",
    "plt.title('Education background summary before the Anonymization')\n",
    "plt.show()\n",
    "bins=[0,2,4,6,8,10,12,14,16]\n",
    "plt.hist(dfn.educationnum, bins, histtype='bar', rwidth=0.8)\n",
    "plt.xlabel('Education Grade')\n",
    "plt.ylabel('Number of people')\n",
    "plt.title('Education background summary after the Anonymization')\n",
    "plt.show()\n"
   ]
  },
  {
   "cell_type": "markdown",
   "metadata": {},
   "source": [
    "# After the annoymization, the age columns are more smooth, the queries shows the numerial data still shows the original distribution. So the anonymizatio is successful. "
   ]
  },
  {
   "cell_type": "code",
   "execution_count": null,
   "metadata": {},
   "outputs": [],
   "source": []
  }
 ],
 "metadata": {
  "kernelspec": {
   "display_name": "Python 3",
   "language": "python",
   "name": "python3"
  },
  "language_info": {
   "codemirror_mode": {
    "name": "ipython",
    "version": 3
   },
   "file_extension": ".py",
   "mimetype": "text/x-python",
   "name": "python",
   "nbconvert_exporter": "python",
   "pygments_lexer": "ipython3",
   "version": "3.7.4"
  },
  "pycharm": {
   "stem_cell": {
    "cell_type": "raw",
    "metadata": {
     "collapsed": false
    },
    "source": []
   }
  }
 },
 "nbformat": 4,
 "nbformat_minor": 2
}
